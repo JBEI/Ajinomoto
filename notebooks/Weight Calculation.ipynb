{
 "cells": [
  {
   "cell_type": "markdown",
   "metadata": {},
   "source": [
    "# Weight Recalculation"
   ]
  },
  {
   "cell_type": "markdown",
   "metadata": {},
   "source": [
    "From top to bottom the agrigate model predicts the following dodecanol titers in grams per liter for the 2507 strains: \n",
    "[1.4948923838594843, 1.3185620269407885, 1.0916893064182125]\n",
    "\n",
    "For the 2220 strains the agrigate model predictions are (again top to bottom):\n",
    "[0.23895043276142006, 0.227565434089475]\n"
   ]
  },
  {
   "cell_type": "markdown",
   "metadata": {},
   "source": [
    "Strain Data Model Predictions"
   ]
  },
  {
   "cell_type": "markdown",
   "metadata": {},
   "source": [
    "## Strain Value Prediction"
   ]
  },
  {
   "cell_type": "code",
   "execution_count": 1,
   "metadata": {},
   "outputs": [],
   "source": [
    "import numpy as np"
   ]
  },
  {
   "cell_type": "code",
   "execution_count": 3,
   "metadata": {},
   "outputs": [],
   "source": [
    "#Construct Matrix for 2507 & 2220 Constructs\n",
    "\n",
    "#Maqu_2220 Predictions\n",
    "A1 = [[0.152493,0.352288,0.562822,0.138883],\n",
    " [0.149496,0.319396,0.533774,0.138883],\n",
    " [       1,       1,       1,       1]]\n",
    "\n",
    "#Maqu_2220 Composite Model\n",
    "b1 = [0.23895043276142006, 0.227565434089475,1]\n",
    "\n",
    "#Maqu_2507 Predictions\n",
    "A2 = [[0.434230,4.097752,1.506839,0.546345],\n",
    " [0.492783,3.372913,1.328917,0.546345],\n",
    " [0.492783,2.426544,1.212723,0.546345],\n",
    " [       1,       1,       1,       1]]\n",
    "\n",
    "#Maqu_2507 Composite Model\n",
    "b2 = [1.4948923838594843, 1.3185620269407885, 1.0916893064182125,1]\n",
    "\n",
    "\n"
   ]
  },
  {
   "cell_type": "code",
   "execution_count": 7,
   "metadata": {},
   "outputs": [
    {
     "name": "stdout",
     "output_type": "stream",
     "text": [
      "Solving For Weights:\n",
      "Matrix Not Full Rank, Using Least Squares Solver\n",
      "[0.33044387 0.21052759 0.11945693 0.33957161]\n",
      "Solving For Weights:\n",
      "[0.35180221 0.20774788 0.26048307 0.17996684]\n"
     ]
    },
    {
     "name": "stderr",
     "output_type": "stream",
     "text": [
      "/usr/local/lib/python3.7/site-packages/ipykernel_launcher.py:12: FutureWarning: `rcond` parameter will change to the default of machine precision times ``max(M, N)`` where M and N are the input matrix dimensions.\n",
      "To use the future default and silence this warning we advise to pass `rcond=None`, to keep using the old, explicitly pass `rcond=-1`.\n",
      "  if sys.path[0] == '':\n"
     ]
    }
   ],
   "source": [
    "#Solve For Weights\n",
    "for A,b in zip([A1,A2],[b1,b2]):\n",
    "    A = np.array(A)\n",
    "    b = np.array(b)\n",
    "    \n",
    "    #Solve Equation and Return Result\n",
    "    print('Solving For Weights:')\n",
    "    try:\n",
    "        x = np.linalg.solve(A, b)\n",
    "    except:\n",
    "        print('Matrix Not Full Rank, Using Least Squares Solver')\n",
    "        x = np.linalg.lstsq(A,b)[0]\n",
    "    print(x)"
   ]
  },
  {
   "cell_type": "code",
   "execution_count": null,
   "metadata": {},
   "outputs": [],
   "source": []
  }
 ],
 "metadata": {
  "kernelspec": {
   "display_name": "Python 3",
   "language": "python",
   "name": "python3"
  },
  "language_info": {
   "codemirror_mode": {
    "name": "ipython",
    "version": 3
   },
   "file_extension": ".py",
   "mimetype": "text/x-python",
   "name": "python",
   "nbconvert_exporter": "python",
   "pygments_lexer": "ipython3",
   "version": "3.7.0"
  }
 },
 "nbformat": 4,
 "nbformat_minor": 2
}
